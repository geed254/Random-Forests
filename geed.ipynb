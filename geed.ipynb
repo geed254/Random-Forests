{
 "cells": [
  {
   "cell_type": "code",
   "execution_count": 1,
   "metadata": {},
   "outputs": [],
   "source": [
    "import numpy as np\n",
    "import pandas as pd\n",
    "import matplotlib.pyplot as plt\n",
    "import seaborn as sns\n",
    "import mglearn\n",
    "from sklearn.neighbors import KNeighborsClassifier\n",
    "from sklearn.model_selection import train_test_split\n",
    "from sklearn.metrics import classification_report,confusion_matrix\n",
    "from sklearn.model_selection import cross_val_score\n",
    "\n",
    "\n",
    "from sklearn.linear_model import LinearRegression\n",
    "from sklearn.ensemble import RandomForestRegressor\n",
    "from sklearn.svm import LinearSVR\n",
    "from sklearn.model_selection import train_test_split\n",
    "from sklearn.preprocessing import StandardScaler\n",
    "\n",
    "\n",
    "%matplotlib inline\n",
    "plt.style.use('ggplot')\n"
   ]
  },
  {
   "cell_type": "markdown",
   "metadata": {},
   "source": [
    "## Loading Dataset"
   ]
  },
  {
   "cell_type": "code",
   "execution_count": 2,
   "metadata": {},
   "outputs": [
    {
     "data": {
      "text/plain": [
       "(27820, 12)"
      ]
     },
     "execution_count": 2,
     "metadata": {},
     "output_type": "execute_result"
    }
   ],
   "source": [
    "#Loading the dataset\n",
    "data = pd.read_csv('master.csv')\n",
    "data.shape"
   ]
  },
  {
   "cell_type": "code",
   "execution_count": 3,
   "metadata": {},
   "outputs": [
    {
     "data": {
      "text/html": [
       "<div>\n",
       "<style scoped>\n",
       "    .dataframe tbody tr th:only-of-type {\n",
       "        vertical-align: middle;\n",
       "    }\n",
       "\n",
       "    .dataframe tbody tr th {\n",
       "        vertical-align: top;\n",
       "    }\n",
       "\n",
       "    .dataframe thead th {\n",
       "        text-align: right;\n",
       "    }\n",
       "</style>\n",
       "<table border=\"1\" class=\"dataframe\">\n",
       "  <thead>\n",
       "    <tr style=\"text-align: right;\">\n",
       "      <th></th>\n",
       "      <th>country</th>\n",
       "      <th>year</th>\n",
       "      <th>sex</th>\n",
       "      <th>age</th>\n",
       "      <th>suicides_no</th>\n",
       "      <th>population</th>\n",
       "      <th>suicides/100k pop</th>\n",
       "      <th>country-year</th>\n",
       "      <th>HDI for year</th>\n",
       "      <th>gdp_for_year ($)</th>\n",
       "      <th>gdp_per_capita ($)</th>\n",
       "      <th>generation</th>\n",
       "    </tr>\n",
       "  </thead>\n",
       "  <tbody>\n",
       "    <tr>\n",
       "      <th>0</th>\n",
       "      <td>Albania</td>\n",
       "      <td>1987</td>\n",
       "      <td>male</td>\n",
       "      <td>15-24 years</td>\n",
       "      <td>21</td>\n",
       "      <td>312900</td>\n",
       "      <td>6.71</td>\n",
       "      <td>Albania1987</td>\n",
       "      <td>NaN</td>\n",
       "      <td>2,156,624,900</td>\n",
       "      <td>796</td>\n",
       "      <td>Generation X</td>\n",
       "    </tr>\n",
       "    <tr>\n",
       "      <th>1</th>\n",
       "      <td>Albania</td>\n",
       "      <td>1987</td>\n",
       "      <td>male</td>\n",
       "      <td>35-54 years</td>\n",
       "      <td>16</td>\n",
       "      <td>308000</td>\n",
       "      <td>5.19</td>\n",
       "      <td>Albania1987</td>\n",
       "      <td>NaN</td>\n",
       "      <td>2,156,624,900</td>\n",
       "      <td>796</td>\n",
       "      <td>Silent</td>\n",
       "    </tr>\n",
       "    <tr>\n",
       "      <th>2</th>\n",
       "      <td>Albania</td>\n",
       "      <td>1987</td>\n",
       "      <td>female</td>\n",
       "      <td>15-24 years</td>\n",
       "      <td>14</td>\n",
       "      <td>289700</td>\n",
       "      <td>4.83</td>\n",
       "      <td>Albania1987</td>\n",
       "      <td>NaN</td>\n",
       "      <td>2,156,624,900</td>\n",
       "      <td>796</td>\n",
       "      <td>Generation X</td>\n",
       "    </tr>\n",
       "    <tr>\n",
       "      <th>3</th>\n",
       "      <td>Albania</td>\n",
       "      <td>1987</td>\n",
       "      <td>male</td>\n",
       "      <td>75+ years</td>\n",
       "      <td>1</td>\n",
       "      <td>21800</td>\n",
       "      <td>4.59</td>\n",
       "      <td>Albania1987</td>\n",
       "      <td>NaN</td>\n",
       "      <td>2,156,624,900</td>\n",
       "      <td>796</td>\n",
       "      <td>G.I. Generation</td>\n",
       "    </tr>\n",
       "    <tr>\n",
       "      <th>4</th>\n",
       "      <td>Albania</td>\n",
       "      <td>1987</td>\n",
       "      <td>male</td>\n",
       "      <td>25-34 years</td>\n",
       "      <td>9</td>\n",
       "      <td>274300</td>\n",
       "      <td>3.28</td>\n",
       "      <td>Albania1987</td>\n",
       "      <td>NaN</td>\n",
       "      <td>2,156,624,900</td>\n",
       "      <td>796</td>\n",
       "      <td>Boomers</td>\n",
       "    </tr>\n",
       "    <tr>\n",
       "      <th>5</th>\n",
       "      <td>Albania</td>\n",
       "      <td>1987</td>\n",
       "      <td>female</td>\n",
       "      <td>75+ years</td>\n",
       "      <td>1</td>\n",
       "      <td>35600</td>\n",
       "      <td>2.81</td>\n",
       "      <td>Albania1987</td>\n",
       "      <td>NaN</td>\n",
       "      <td>2,156,624,900</td>\n",
       "      <td>796</td>\n",
       "      <td>G.I. Generation</td>\n",
       "    </tr>\n",
       "    <tr>\n",
       "      <th>6</th>\n",
       "      <td>Albania</td>\n",
       "      <td>1987</td>\n",
       "      <td>female</td>\n",
       "      <td>35-54 years</td>\n",
       "      <td>6</td>\n",
       "      <td>278800</td>\n",
       "      <td>2.15</td>\n",
       "      <td>Albania1987</td>\n",
       "      <td>NaN</td>\n",
       "      <td>2,156,624,900</td>\n",
       "      <td>796</td>\n",
       "      <td>Silent</td>\n",
       "    </tr>\n",
       "    <tr>\n",
       "      <th>7</th>\n",
       "      <td>Albania</td>\n",
       "      <td>1987</td>\n",
       "      <td>female</td>\n",
       "      <td>25-34 years</td>\n",
       "      <td>4</td>\n",
       "      <td>257200</td>\n",
       "      <td>1.56</td>\n",
       "      <td>Albania1987</td>\n",
       "      <td>NaN</td>\n",
       "      <td>2,156,624,900</td>\n",
       "      <td>796</td>\n",
       "      <td>Boomers</td>\n",
       "    </tr>\n",
       "    <tr>\n",
       "      <th>8</th>\n",
       "      <td>Albania</td>\n",
       "      <td>1987</td>\n",
       "      <td>male</td>\n",
       "      <td>55-74 years</td>\n",
       "      <td>1</td>\n",
       "      <td>137500</td>\n",
       "      <td>0.73</td>\n",
       "      <td>Albania1987</td>\n",
       "      <td>NaN</td>\n",
       "      <td>2,156,624,900</td>\n",
       "      <td>796</td>\n",
       "      <td>G.I. Generation</td>\n",
       "    </tr>\n",
       "    <tr>\n",
       "      <th>9</th>\n",
       "      <td>Albania</td>\n",
       "      <td>1987</td>\n",
       "      <td>female</td>\n",
       "      <td>5-14 years</td>\n",
       "      <td>0</td>\n",
       "      <td>311000</td>\n",
       "      <td>0.00</td>\n",
       "      <td>Albania1987</td>\n",
       "      <td>NaN</td>\n",
       "      <td>2,156,624,900</td>\n",
       "      <td>796</td>\n",
       "      <td>Generation X</td>\n",
       "    </tr>\n",
       "  </tbody>\n",
       "</table>\n",
       "</div>"
      ],
      "text/plain": [
       "   country  year     sex          age  suicides_no  population  \\\n",
       "0  Albania  1987    male  15-24 years           21      312900   \n",
       "1  Albania  1987    male  35-54 years           16      308000   \n",
       "2  Albania  1987  female  15-24 years           14      289700   \n",
       "3  Albania  1987    male    75+ years            1       21800   \n",
       "4  Albania  1987    male  25-34 years            9      274300   \n",
       "5  Albania  1987  female    75+ years            1       35600   \n",
       "6  Albania  1987  female  35-54 years            6      278800   \n",
       "7  Albania  1987  female  25-34 years            4      257200   \n",
       "8  Albania  1987    male  55-74 years            1      137500   \n",
       "9  Albania  1987  female   5-14 years            0      311000   \n",
       "\n",
       "   suicides/100k pop country-year  HDI for year  gdp_for_year ($)   \\\n",
       "0               6.71  Albania1987           NaN      2,156,624,900   \n",
       "1               5.19  Albania1987           NaN      2,156,624,900   \n",
       "2               4.83  Albania1987           NaN      2,156,624,900   \n",
       "3               4.59  Albania1987           NaN      2,156,624,900   \n",
       "4               3.28  Albania1987           NaN      2,156,624,900   \n",
       "5               2.81  Albania1987           NaN      2,156,624,900   \n",
       "6               2.15  Albania1987           NaN      2,156,624,900   \n",
       "7               1.56  Albania1987           NaN      2,156,624,900   \n",
       "8               0.73  Albania1987           NaN      2,156,624,900   \n",
       "9               0.00  Albania1987           NaN      2,156,624,900   \n",
       "\n",
       "   gdp_per_capita ($)       generation  \n",
       "0                 796     Generation X  \n",
       "1                 796           Silent  \n",
       "2                 796     Generation X  \n",
       "3                 796  G.I. Generation  \n",
       "4                 796          Boomers  \n",
       "5                 796  G.I. Generation  \n",
       "6                 796           Silent  \n",
       "7                 796          Boomers  \n",
       "8                 796  G.I. Generation  \n",
       "9                 796     Generation X  "
      ]
     },
     "execution_count": 3,
     "metadata": {},
     "output_type": "execute_result"
    }
   ],
   "source": [
    "data.head(10)"
   ]
  },
  {
   "cell_type": "code",
   "execution_count": null,
   "metadata": {},
   "outputs": [],
   "source": []
  },
  {
   "cell_type": "markdown",
   "metadata": {},
   "source": [
    "# B. Exploratory Data Analysis"
   ]
  },
  {
   "cell_type": "code",
   "execution_count": 4,
   "metadata": {},
   "outputs": [
    {
     "name": "stdout",
     "output_type": "stream",
     "text": [
      "<class 'pandas.core.frame.DataFrame'>\n",
      "RangeIndex: 27820 entries, 0 to 27819\n",
      "Data columns (total 12 columns):\n",
      " #   Column              Non-Null Count  Dtype  \n",
      "---  ------              --------------  -----  \n",
      " 0   country             27820 non-null  object \n",
      " 1   year                27820 non-null  int64  \n",
      " 2   sex                 27820 non-null  object \n",
      " 3   age                 27820 non-null  object \n",
      " 4   suicides_no         27820 non-null  int64  \n",
      " 5   population          27820 non-null  int64  \n",
      " 6   suicides/100k pop   27820 non-null  float64\n",
      " 7   country-year        27820 non-null  object \n",
      " 8   HDI for year        8364 non-null   float64\n",
      " 9    gdp_for_year ($)   27820 non-null  object \n",
      " 10  gdp_per_capita ($)  27820 non-null  int64  \n",
      " 11  generation          27820 non-null  object \n",
      "dtypes: float64(2), int64(4), object(6)\n",
      "memory usage: 2.5+ MB\n"
     ]
    }
   ],
   "source": [
    "data.info()"
   ]
  },
  {
   "cell_type": "markdown",
   "metadata": {},
   "source": [
    "- HDI for year has lots of missing data\n",
    "- Later dropped HDI because of the missing data"
   ]
  },
  {
   "cell_type": "code",
   "execution_count": 5,
   "metadata": {
    "scrolled": true
   },
   "outputs": [
    {
     "data": {
      "text/html": [
       "<div>\n",
       "<style scoped>\n",
       "    .dataframe tbody tr th:only-of-type {\n",
       "        vertical-align: middle;\n",
       "    }\n",
       "\n",
       "    .dataframe tbody tr th {\n",
       "        vertical-align: top;\n",
       "    }\n",
       "\n",
       "    .dataframe thead th {\n",
       "        text-align: right;\n",
       "    }\n",
       "</style>\n",
       "<table border=\"1\" class=\"dataframe\">\n",
       "  <thead>\n",
       "    <tr style=\"text-align: right;\">\n",
       "      <th></th>\n",
       "      <th>year</th>\n",
       "      <th>suicides_no</th>\n",
       "      <th>population</th>\n",
       "      <th>suicides/100k pop</th>\n",
       "      <th>HDI for year</th>\n",
       "      <th>gdp_per_capita ($)</th>\n",
       "    </tr>\n",
       "  </thead>\n",
       "  <tbody>\n",
       "    <tr>\n",
       "      <th>count</th>\n",
       "      <td>27820.000000</td>\n",
       "      <td>27820.000000</td>\n",
       "      <td>2.782000e+04</td>\n",
       "      <td>27820.000000</td>\n",
       "      <td>8364.000000</td>\n",
       "      <td>27820.000000</td>\n",
       "    </tr>\n",
       "    <tr>\n",
       "      <th>mean</th>\n",
       "      <td>2001.258375</td>\n",
       "      <td>242.574407</td>\n",
       "      <td>1.844794e+06</td>\n",
       "      <td>12.816097</td>\n",
       "      <td>0.776601</td>\n",
       "      <td>16866.464414</td>\n",
       "    </tr>\n",
       "    <tr>\n",
       "      <th>std</th>\n",
       "      <td>8.469055</td>\n",
       "      <td>902.047917</td>\n",
       "      <td>3.911779e+06</td>\n",
       "      <td>18.961511</td>\n",
       "      <td>0.093367</td>\n",
       "      <td>18887.576472</td>\n",
       "    </tr>\n",
       "    <tr>\n",
       "      <th>min</th>\n",
       "      <td>1985.000000</td>\n",
       "      <td>0.000000</td>\n",
       "      <td>2.780000e+02</td>\n",
       "      <td>0.000000</td>\n",
       "      <td>0.483000</td>\n",
       "      <td>251.000000</td>\n",
       "    </tr>\n",
       "    <tr>\n",
       "      <th>25%</th>\n",
       "      <td>1995.000000</td>\n",
       "      <td>3.000000</td>\n",
       "      <td>9.749850e+04</td>\n",
       "      <td>0.920000</td>\n",
       "      <td>0.713000</td>\n",
       "      <td>3447.000000</td>\n",
       "    </tr>\n",
       "    <tr>\n",
       "      <th>50%</th>\n",
       "      <td>2002.000000</td>\n",
       "      <td>25.000000</td>\n",
       "      <td>4.301500e+05</td>\n",
       "      <td>5.990000</td>\n",
       "      <td>0.779000</td>\n",
       "      <td>9372.000000</td>\n",
       "    </tr>\n",
       "    <tr>\n",
       "      <th>75%</th>\n",
       "      <td>2008.000000</td>\n",
       "      <td>131.000000</td>\n",
       "      <td>1.486143e+06</td>\n",
       "      <td>16.620000</td>\n",
       "      <td>0.855000</td>\n",
       "      <td>24874.000000</td>\n",
       "    </tr>\n",
       "    <tr>\n",
       "      <th>max</th>\n",
       "      <td>2016.000000</td>\n",
       "      <td>22338.000000</td>\n",
       "      <td>4.380521e+07</td>\n",
       "      <td>224.970000</td>\n",
       "      <td>0.944000</td>\n",
       "      <td>126352.000000</td>\n",
       "    </tr>\n",
       "  </tbody>\n",
       "</table>\n",
       "</div>"
      ],
      "text/plain": [
       "               year   suicides_no    population  suicides/100k pop  \\\n",
       "count  27820.000000  27820.000000  2.782000e+04       27820.000000   \n",
       "mean    2001.258375    242.574407  1.844794e+06          12.816097   \n",
       "std        8.469055    902.047917  3.911779e+06          18.961511   \n",
       "min     1985.000000      0.000000  2.780000e+02           0.000000   \n",
       "25%     1995.000000      3.000000  9.749850e+04           0.920000   \n",
       "50%     2002.000000     25.000000  4.301500e+05           5.990000   \n",
       "75%     2008.000000    131.000000  1.486143e+06          16.620000   \n",
       "max     2016.000000  22338.000000  4.380521e+07         224.970000   \n",
       "\n",
       "       HDI for year  gdp_per_capita ($)  \n",
       "count   8364.000000        27820.000000  \n",
       "mean       0.776601        16866.464414  \n",
       "std        0.093367        18887.576472  \n",
       "min        0.483000          251.000000  \n",
       "25%        0.713000         3447.000000  \n",
       "50%        0.779000         9372.000000  \n",
       "75%        0.855000        24874.000000  \n",
       "max        0.944000       126352.000000  "
      ]
     },
     "execution_count": 5,
     "metadata": {},
     "output_type": "execute_result"
    }
   ],
   "source": [
    "data.describe()"
   ]
  },
  {
   "cell_type": "code",
   "execution_count": null,
   "metadata": {},
   "outputs": [],
   "source": []
  },
  {
   "cell_type": "code",
   "execution_count": null,
   "metadata": {},
   "outputs": [],
   "source": []
  },
  {
   "cell_type": "code",
   "execution_count": 6,
   "metadata": {},
   "outputs": [
    {
     "data": {
      "text/html": [
       "<div>\n",
       "<style scoped>\n",
       "    .dataframe tbody tr th:only-of-type {\n",
       "        vertical-align: middle;\n",
       "    }\n",
       "\n",
       "    .dataframe tbody tr th {\n",
       "        vertical-align: top;\n",
       "    }\n",
       "\n",
       "    .dataframe thead th {\n",
       "        text-align: right;\n",
       "    }\n",
       "</style>\n",
       "<table border=\"1\" class=\"dataframe\">\n",
       "  <thead>\n",
       "    <tr style=\"text-align: right;\">\n",
       "      <th></th>\n",
       "      <th>suicides_no</th>\n",
       "      <th>population</th>\n",
       "      <th>gdp_per_capita ($)</th>\n",
       "    </tr>\n",
       "    <tr>\n",
       "      <th>country</th>\n",
       "      <th></th>\n",
       "      <th></th>\n",
       "      <th></th>\n",
       "    </tr>\n",
       "  </thead>\n",
       "  <tbody>\n",
       "    <tr>\n",
       "      <th>Russian Federation</th>\n",
       "      <td>1209742</td>\n",
       "      <td>3690802620</td>\n",
       "      <td>2112096</td>\n",
       "    </tr>\n",
       "    <tr>\n",
       "      <th>United States</th>\n",
       "      <td>1034013</td>\n",
       "      <td>8054027201</td>\n",
       "      <td>14608296</td>\n",
       "    </tr>\n",
       "    <tr>\n",
       "      <th>Japan</th>\n",
       "      <td>806902</td>\n",
       "      <td>3681024844</td>\n",
       "      <td>13539888</td>\n",
       "    </tr>\n",
       "    <tr>\n",
       "      <th>France</th>\n",
       "      <td>329127</td>\n",
       "      <td>1670756775</td>\n",
       "      <td>11333328</td>\n",
       "    </tr>\n",
       "    <tr>\n",
       "      <th>Ukraine</th>\n",
       "      <td>319950</td>\n",
       "      <td>1286469184</td>\n",
       "      <td>627492</td>\n",
       "    </tr>\n",
       "    <tr>\n",
       "      <th>Germany</th>\n",
       "      <td>291262</td>\n",
       "      <td>2024875612</td>\n",
       "      <td>10971240</td>\n",
       "    </tr>\n",
       "    <tr>\n",
       "      <th>Republic of Korea</th>\n",
       "      <td>261730</td>\n",
       "      <td>1354944936</td>\n",
       "      <td>5506068</td>\n",
       "    </tr>\n",
       "    <tr>\n",
       "      <th>Brazil</th>\n",
       "      <td>226613</td>\n",
       "      <td>4856093548</td>\n",
       "      <td>2266032</td>\n",
       "    </tr>\n",
       "    <tr>\n",
       "      <th>Poland</th>\n",
       "      <td>139098</td>\n",
       "      <td>866180029</td>\n",
       "      <td>2346180</td>\n",
       "    </tr>\n",
       "    <tr>\n",
       "      <th>United Kingdom</th>\n",
       "      <td>136805</td>\n",
       "      <td>1738767780</td>\n",
       "      <td>11869908</td>\n",
       "    </tr>\n",
       "    <tr>\n",
       "      <th>Italy</th>\n",
       "      <td>132060</td>\n",
       "      <td>1715043704</td>\n",
       "      <td>9896160</td>\n",
       "    </tr>\n",
       "    <tr>\n",
       "      <th>Mexico</th>\n",
       "      <td>111139</td>\n",
       "      <td>2772959159</td>\n",
       "      <td>2655504</td>\n",
       "    </tr>\n",
       "    <tr>\n",
       "      <th>Thailand</th>\n",
       "      <td>110643</td>\n",
       "      <td>1584800281</td>\n",
       "      <td>1193102</td>\n",
       "    </tr>\n",
       "    <tr>\n",
       "      <th>Canada</th>\n",
       "      <td>107561</td>\n",
       "      <td>826052183</td>\n",
       "      <td>10748844</td>\n",
       "    </tr>\n",
       "    <tr>\n",
       "      <th>Kazakhstan</th>\n",
       "      <td>101546</td>\n",
       "      <td>377513869</td>\n",
       "      <td>1662684</td>\n",
       "    </tr>\n",
       "    <tr>\n",
       "      <th>Spain</th>\n",
       "      <td>100202</td>\n",
       "      <td>1227661095</td>\n",
       "      <td>7805364</td>\n",
       "    </tr>\n",
       "    <tr>\n",
       "      <th>Argentina</th>\n",
       "      <td>82219</td>\n",
       "      <td>1035985431</td>\n",
       "      <td>2944044</td>\n",
       "    </tr>\n",
       "    <tr>\n",
       "      <th>Hungary</th>\n",
       "      <td>73891</td>\n",
       "      <td>248644256</td>\n",
       "      <td>2904716</td>\n",
       "    </tr>\n",
       "    <tr>\n",
       "      <th>Romania</th>\n",
       "      <td>72777</td>\n",
       "      <td>575065963</td>\n",
       "      <td>1600344</td>\n",
       "    </tr>\n",
       "    <tr>\n",
       "      <th>Australia</th>\n",
       "      <td>70111</td>\n",
       "      <td>542377786</td>\n",
       "      <td>11799504</td>\n",
       "    </tr>\n",
       "  </tbody>\n",
       "</table>\n",
       "</div>"
      ],
      "text/plain": [
       "                    suicides_no  population  gdp_per_capita ($)\n",
       "country                                                        \n",
       "Russian Federation      1209742  3690802620             2112096\n",
       "United States           1034013  8054027201            14608296\n",
       "Japan                    806902  3681024844            13539888\n",
       "France                   329127  1670756775            11333328\n",
       "Ukraine                  319950  1286469184              627492\n",
       "Germany                  291262  2024875612            10971240\n",
       "Republic of Korea        261730  1354944936             5506068\n",
       "Brazil                   226613  4856093548             2266032\n",
       "Poland                   139098   866180029             2346180\n",
       "United Kingdom           136805  1738767780            11869908\n",
       "Italy                    132060  1715043704             9896160\n",
       "Mexico                   111139  2772959159             2655504\n",
       "Thailand                 110643  1584800281             1193102\n",
       "Canada                   107561   826052183            10748844\n",
       "Kazakhstan               101546   377513869             1662684\n",
       "Spain                    100202  1227661095             7805364\n",
       "Argentina                 82219  1035985431             2944044\n",
       "Hungary                   73891   248644256             2904716\n",
       "Romania                   72777   575065963             1600344\n",
       "Australia                 70111   542377786            11799504"
      ]
     },
     "execution_count": 6,
     "metadata": {},
     "output_type": "execute_result"
    }
   ],
   "source": [
    "#Suicide rate grouped by country\n",
    "dfs= data[['suicides_no','population','gdp_per_capita ($)', 'country']].groupby('country').sum() \n",
    "#sort the values of the suicide numbers by number in descending order\n",
    "dfs = dfs.sort_values('suicides_no', ascending=False)\n",
    "#Display top 20 countries\n",
    "dfs.head(20)"
   ]
  },
  {
   "cell_type": "code",
   "execution_count": 7,
   "metadata": {},
   "outputs": [
    {
     "data": {
      "image/png": "[encoded data removed]",
      "text/plain": [
       "<Figure size 1080x576 with 3 Axes>"
      ]
     },
     "metadata": {},
     "output_type": "display_data"
    }
   ],
   "source": [
    "\n",
    "dfs = dfs.head(15)\n",
    "params = ['suicides_no','population','gdp_per_capita ($)']\n",
    "axes =[0,1,2]\n",
    "color =['red','blue','black']\n",
    "f, axes = plt.subplots(1,3, figsize=(15,8))\n",
    "\n",
    "for ax, item, c in zip(axes,params, color):\n",
    "    ax.barh(y = dfs.index.values, width = dfs[item], color=c, align='edge')\n",
    "    ax.set_title(item+' by Country', fontsize=16)\n",
    "    ax.set_xlabel(item, fontsize=12)\n",
    "    plt.setp(ax.xaxis.get_majorticklabels(), rotation=45)\n"
   ]
  },
  {
   "cell_type": "code",
   "execution_count": 8,
   "metadata": {},
   "outputs": [
    {
     "data": {
      "image/png": "[encoded data removed]",
      "text/plain": [
       "<Figure size 864x576 with 3 Axes>"
      ]
     },
     "metadata": {},
     "output_type": "display_data"
    }
   ],
   "source": [
    "#Explore if there are different rates of suicide based on other demographies \n",
    "\n",
    "categories = ['sex','generation','age']\n",
    "axes =[0,1,2]\n",
    "color =['red','blue','black']\n",
    "\n",
    "f, axes = plt.subplots(1,3,figsize=(12,8))\n",
    "for ax, item, c in zip(axes,categories, color):\n",
    "    dfc = data[['suicides_no', item]].groupby(item).sum()\n",
    "    dfc = dfc.sort_values(by='suicides_no', ascending=False)\n",
    "    x = dfc.index.values\n",
    "    height = dfc['suicides_no']\n",
    "    ax.bar(x, height, color=c)\n",
    "    ax.set_title('Suicide Cases by ' + item)\n",
    "    plt.setp(ax.xaxis.get_majorticklabels(), rotation=45)\n"
   ]
  },
  {
   "cell_type": "markdown",
   "metadata": {},
   "source": [
    "### Notes\n",
    "- Suicide rates higher in ages between **35 and 54** years.\n",
    "- **Boomers generation** has highest rates of suicide\n",
    "- More males commit suicide than females\n",
    "- Oldest and youngest population have the lowest levels of suicide."
   ]
  },
  {
   "cell_type": "code",
   "execution_count": null,
   "metadata": {},
   "outputs": [],
   "source": []
  },
  {
   "cell_type": "markdown",
   "metadata": {},
   "source": [
    "# C. Dataset preparation: Data preprocessing and Feature engineering"
   ]
  },
  {
   "cell_type": "code",
   "execution_count": 9,
   "metadata": {},
   "outputs": [],
   "source": [
    "df = data.copy()"
   ]
  },
  {
   "cell_type": "code",
   "execution_count": 10,
   "metadata": {},
   "outputs": [
    {
     "name": "stdout",
     "output_type": "stream",
     "text": [
      "Rate of missing data in HDI for year is: 70%\n"
     ]
    }
   ],
   "source": [
    "#Check data again to identify features to drop and engineer\n",
    "a = df['HDI for year'].isna().sum()\n",
    "b = df.shape[0]\n",
    "print(f'Rate of missing data in HDI for year is: {100*a/b :.0f}%')"
   ]
  },
  {
   "cell_type": "code",
   "execution_count": 11,
   "metadata": {},
   "outputs": [],
   "source": [
    "#drop column with missing data\n",
    "df.drop('HDI for year', axis=1, inplace=True)"
   ]
  },
  {
   "cell_type": "code",
   "execution_count": 12,
   "metadata": {},
   "outputs": [
    {
     "data": {
      "text/plain": [
       "0        1987\n",
       "1        1987\n",
       "2        1987\n",
       "3        1987\n",
       "4        1987\n",
       "         ... \n",
       "27815    2014\n",
       "27816    2014\n",
       "27817    2014\n",
       "27818    2014\n",
       "27819    2014\n",
       "Name: country-year, Length: 27820, dtype: int32"
      ]
     },
     "execution_count": 12,
     "metadata": {},
     "output_type": "execute_result"
    }
   ],
   "source": [
    "df['country-year'].str[-4:].astype('int')"
   ]
  },
  {
   "cell_type": "code",
   "execution_count": 13,
   "metadata": {},
   "outputs": [
    {
     "name": "stdout",
     "output_type": "stream",
     "text": [
      "<class 'pandas.core.frame.DataFrame'>\n",
      "RangeIndex: 27820 entries, 0 to 27819\n",
      "Data columns (total 11 columns):\n",
      " #   Column              Non-Null Count  Dtype  \n",
      "---  ------              --------------  -----  \n",
      " 0   country             27820 non-null  object \n",
      " 1   year                27820 non-null  int64  \n",
      " 2   sex                 27820 non-null  object \n",
      " 3   age                 27820 non-null  object \n",
      " 4   suicides_no         27820 non-null  int64  \n",
      " 5   population          27820 non-null  int64  \n",
      " 6   suicides/100k pop   27820 non-null  float64\n",
      " 7   country-year        27820 non-null  object \n",
      " 8    gdp_for_year ($)   27820 non-null  object \n",
      " 9   gdp_per_capita ($)  27820 non-null  int64  \n",
      " 10  generation          27820 non-null  object \n",
      "dtypes: float64(1), int64(4), object(6)\n",
      "memory usage: 2.3+ MB\n"
     ]
    }
   ],
   "source": [
    "#Identify columns that can be re-engineered to get more features\n",
    "df.info()"
   ]
  },
  {
   "cell_type": "code",
   "execution_count": 14,
   "metadata": {},
   "outputs": [],
   "source": [
    "#Re-engineer some of the features to improve model\n",
    "\n",
    "df['country-year'] = df['country-year'].str[-4:].astype('int') #Change str type data to int\n",
    "df[' gdp_for_year ($) '] = df[' gdp_for_year ($) '].str.replace(',','').astype('int64') \n",
    "\n",
    "#Encoding \n",
    "df['sex'] = df['sex'].map({'female':0, 'male':1}) \n",
    "df['age'] = df['age'].map({'5-14 years':0,'15-24 years':1,'25-34 years':2,'35-54 years':3,'55-74 years':4,'75+ years':5}) \n",
    "\n",
    "\n"
   ]
  },
  {
   "cell_type": "markdown",
   "metadata": {},
   "source": [
    "# D. Supervised Machine Learning "
   ]
  },
  {
   "cell_type": "markdown",
   "metadata": {},
   "source": [
    "## Using Unnormalized Dataset"
   ]
  },
  {
   "cell_type": "code",
   "execution_count": 15,
   "metadata": {},
   "outputs": [],
   "source": [
    "df1 = df[['suicides_no', 'population',' gdp_for_year ($) ','gdp_per_capita ($)']]"
   ]
  },
  {
   "cell_type": "markdown",
   "metadata": {},
   "source": [
    "\n",
    "### Defining train and test datasets\n"
   ]
  },
  {
   "cell_type": "code",
   "execution_count": 16,
   "metadata": {},
   "outputs": [],
   "source": [
    "x = df1.drop('suicides_no', axis=1)\n",
    "y = df1['suicides_no']\n",
    "X_train, X_test, y_train, y_test = train_test_split(x, y,  test_size=0.2, random_state=101)\n"
   ]
  },
  {
   "cell_type": "markdown",
   "metadata": {},
   "source": [
    "### Linear Regression"
   ]
  },
  {
   "cell_type": "code",
   "execution_count": 17,
   "metadata": {},
   "outputs": [
    {
     "name": "stdout",
     "output_type": "stream",
     "text": [
      "Test_R_Sqrd: 0.3882\n",
      "Train_R_Sqrd: 0.3778\n",
      "\n"
     ]
    }
   ],
   "source": [
    "from sklearn.linear_model import LinearRegression\n",
    "lr = LinearRegression().fit(X_train,y_train)\n",
    "print(f'Test_R_Sqrd: {lr.score(X_test, y_test):.4f}\\nTrain_R_Sqrd: {lr.score(X_train,y_train):.4f}\\n')\n"
   ]
  },
  {
   "cell_type": "code",
   "execution_count": null,
   "metadata": {},
   "outputs": [],
   "source": []
  },
  {
   "cell_type": "markdown",
   "metadata": {},
   "source": [
    "### Ridge Regression"
   ]
  },
  {
   "cell_type": "code",
   "execution_count": 18,
   "metadata": {},
   "outputs": [
    {
     "name": "stdout",
     "output_type": "stream",
     "text": [
      "Ridge Test_R_Sqrd: 0.3882\n",
      "Train_R_Sqrd: 0.3778\n",
      "\n"
     ]
    }
   ],
   "source": [
    "from sklearn.linear_model import Ridge\n",
    "from sklearn.model_selection import GridSearchCV\n",
    "ridge1 = Ridge(alpha=0.1)\n",
    "ridge1.fit(X_train, y_train)\n",
    "print(f'Ridge Test_R_Sqrd: {ridge1.score(X_test, y_test):.4f}\\nTrain_R_Sqrd: {ridge1.score(X_train,y_train):.4f}\\n')\n",
    "\n"
   ]
  },
  {
   "cell_type": "code",
   "execution_count": null,
   "metadata": {},
   "outputs": [],
   "source": []
  },
  {
   "cell_type": "markdown",
   "metadata": {},
   "source": [
    "### Lasso Regression"
   ]
  },
  {
   "cell_type": "code",
   "execution_count": null,
   "metadata": {},
   "outputs": [],
   "source": []
  },
  {
   "cell_type": "code",
   "execution_count": 19,
   "metadata": {},
   "outputs": [
    {
     "name": "stdout",
     "output_type": "stream",
     "text": [
      "Best Lasso Test_R_Sqrd: 0.3882\n",
      "Train_R_Sqrd: 0.3778\n"
     ]
    }
   ],
   "source": [
    "from sklearn.linear_model import Lasso\n",
    "lasso1 = Lasso(max_iter=100000, alpha=0.01)\n",
    "lasso1.fit(X_train, y_train)\n",
    "\n",
    "print(f'Best Lasso Test_R_Sqrd: {lasso1.score(X_test, y_test):.4f}\\nTrain_R_Sqrd: {lasso1.score(X_train,y_train):.4f}')\n"
   ]
  },
  {
   "cell_type": "markdown",
   "metadata": {},
   "source": [
    "## Notes\n",
    "- The 3 regression models perform poorly on the unstandardized dataset with accuracies below average\n"
   ]
  },
  {
   "cell_type": "markdown",
   "metadata": {},
   "source": [
    "## Normalizing the Data"
   ]
  },
  {
   "cell_type": "code",
   "execution_count": 20,
   "metadata": {},
   "outputs": [
    {
     "name": "stderr",
     "output_type": "stream",
     "text": [
      "C:\\Users\\glubi\\anaconda3\\lib\\site-packages\\pandas\\core\\series.py:679: RuntimeWarning: divide by zero encountered in log\n",
      "  result = getattr(ufunc, method)(*inputs, **kwargs)\n"
     ]
    }
   ],
   "source": [
    "#Standardizing large numbers using log transformations\n",
    "df=df.copy()\n",
    "df['annual_gdp_log'] = np.where(df[' gdp_for_year ($) '] != 0, np.log(df[' gdp_for_year ($) ']), 0) \n",
    "df['population_log'] = np.where(df['population'] != 0, np.log(df['population']), 0)\n",
    "df['target_log'] = np.where(df['suicides_no'] != 0, np.log(df['suicides_no']), 0)\n",
    "\n",
    "#scaling the numerical features\n",
    "\n",
    "\n",
    "scaler = StandardScaler()\n",
    "df_scaled = df.drop(['country', 'country-year','generation'], axis=1)\n",
    "df_scaled = df_scaled[['sex', 'age', 'annual_gdp_log','population_log', 'target_log']]\n",
    "\n",
    "\n",
    "df_scaled['scaled_pop'] = scaler.fit_transform(df_scaled['population_log'].values.reshape(-1,1))\n",
    "df_scaled['scaled_gdp'] = scaler.fit_transform(df_scaled['annual_gdp_log'].values.reshape(-1,1))\n",
    "df_scaled = df_scaled.drop(['annual_gdp_log', 'population_log'], axis=1)"
   ]
  },
  {
   "cell_type": "code",
   "execution_count": 21,
   "metadata": {},
   "outputs": [],
   "source": [
    "#Defining train and test datasets\n",
    "x = df_scaled.drop('target_log', axis=1)\n",
    "y = df_scaled['target_log']\n",
    "X_train, X_test, y_train, y_test = train_test_split(x, y,  test_size=0.2, random_state=101)"
   ]
  },
  {
   "cell_type": "code",
   "execution_count": null,
   "metadata": {},
   "outputs": [],
   "source": []
  },
  {
   "cell_type": "markdown",
   "metadata": {},
   "source": [
    "## Using Unnormalized Dataset"
   ]
  },
  {
   "cell_type": "markdown",
   "metadata": {},
   "source": [
    "### Linear Regression Model"
   ]
  },
  {
   "cell_type": "code",
   "execution_count": null,
   "metadata": {},
   "outputs": [],
   "source": []
  },
  {
   "cell_type": "code",
   "execution_count": 22,
   "metadata": {},
   "outputs": [
    {
     "name": "stdout",
     "output_type": "stream",
     "text": [
      "Test_R_Sqrd: 0.7677\n",
      "Train_R_Sqrd: 0.7608\n"
     ]
    }
   ],
   "source": [
    "lr = LinearRegression().fit(X_train,y_train)\n",
    "print(f'Test_R_Sqrd: {lr.score(X_test, y_test):.4f}\\nTrain_R_Sqrd: {lr.score(X_train,y_train):.4f}')"
   ]
  },
  {
   "cell_type": "code",
   "execution_count": null,
   "metadata": {},
   "outputs": [],
   "source": []
  },
  {
   "cell_type": "markdown",
   "metadata": {},
   "source": [
    "### Ridge Regression"
   ]
  },
  {
   "cell_type": "code",
   "execution_count": 23,
   "metadata": {},
   "outputs": [
    {
     "name": "stdout",
     "output_type": "stream",
     "text": [
      "Test_R_Sqrd: 0.7677\n",
      "Train_R_Sqrd: 0.7608\n"
     ]
    }
   ],
   "source": [
    "ridge = Ridge().fit(X_train, y_train)\n",
    "print(f'Test_R_Sqrd: {ridge.score(X_test, y_test):.4f}\\nTrain_R_Sqrd: {ridge.score(X_train,y_train):.4f}')"
   ]
  },
  {
   "cell_type": "code",
   "execution_count": null,
   "metadata": {},
   "outputs": [],
   "source": []
  },
  {
   "cell_type": "code",
   "execution_count": 24,
   "metadata": {},
   "outputs": [
    {
     "name": "stdout",
     "output_type": "stream",
     "text": [
      "Best Test_R_Sqrd: 0.7677\n",
      "Train_R_Sqrd: 0.7608\n"
     ]
    }
   ],
   "source": [
    "ridge1 = Ridge()\n",
    "param_grid = {'alpha': [_ for _ in [0.01,0.1,1,10, 100]]}\n",
    "grid_ridge= GridSearchCV(ridge1, param_grid, \n",
    "                 cv=5, return_train_score=True)#GridSearchCV with cross-validation cv=5\n",
    "grid_ridge.fit(X_train, y_train)\n",
    "print(f'Best Test_R_Sqrd: {grid_ridge.score(X_test, y_test):.4f}\\nTrain_R_Sqrd: {grid_ridge.score(X_train,y_train):.4f}')"
   ]
  },
  {
   "cell_type": "code",
   "execution_count": null,
   "metadata": {},
   "outputs": [],
   "source": []
  },
  {
   "cell_type": "code",
   "execution_count": null,
   "metadata": {},
   "outputs": [],
   "source": []
  },
  {
   "cell_type": "markdown",
   "metadata": {},
   "source": [
    "### Lasso Regression"
   ]
  },
  {
   "cell_type": "code",
   "execution_count": 25,
   "metadata": {},
   "outputs": [
    {
     "name": "stdout",
     "output_type": "stream",
     "text": [
      "Best Test_R_Sqrd: 0.7671\n",
      "Train_R_Sqrd: 0.7606\n"
     ]
    }
   ],
   "source": [
    "lasso = Lasso()\n",
    "param_grid = {'alpha': [_ for _ in [0.01,0.1,1,10, 100,1000]], 'max_iter':[_ for _ in [1000, 10000,100000,1000000]]}\n",
    "grid_lasso= GridSearchCV(lasso, param_grid, \n",
    "                 cv=5, return_train_score=True)#GridSearchCV with cross-validation cv=5\n",
    "grid_lasso.fit(X_train, y_train)\n",
    "print(f'Best Test_R_Sqrd: {grid_lasso.score(X_test, y_test):.4f}\\nTrain_R_Sqrd: {grid_lasso.score(X_train,y_train):.4f}')\n"
   ]
  },
  {
   "cell_type": "code",
   "execution_count": null,
   "metadata": {},
   "outputs": [],
   "source": []
  },
  {
   "cell_type": "code",
   "execution_count": null,
   "metadata": {},
   "outputs": [],
   "source": []
  },
  {
   "cell_type": "markdown",
   "metadata": {},
   "source": [
    "### Random Forest Regressor"
   ]
  },
  {
   "cell_type": "code",
   "execution_count": 26,
   "metadata": {},
   "outputs": [],
   "source": [
    "#df_scaled.columns\n"
   ]
  },
  {
   "cell_type": "code",
   "execution_count": 27,
   "metadata": {},
   "outputs": [
    {
     "name": "stderr",
     "output_type": "stream",
     "text": [
      "C:\\Users\\glubi\\anaconda3\\lib\\site-packages\\pandas\\core\\series.py:679: RuntimeWarning: divide by zero encountered in log\n",
      "  result = getattr(ufunc, method)(*inputs, **kwargs)\n"
     ]
    }
   ],
   "source": [
    "#Standardizing large numbers using log transformations\n",
    "df=df.copy()\n",
    "df['annual_gdp_log'] = np.where(df[' gdp_for_year ($) '] != 0, np.log(df[' gdp_for_year ($) ']), 0) \n",
    "df['population_log'] = np.where(df['population'] != 0, np.log(df['population']), 0)\n",
    "df['target_log'] = np.where(df['suicides_no'] != 0, np.log(df['suicides_no']), 0)\n",
    "\n",
    "#scaling the numerical features for Random forest\n",
    "\n",
    "scaler = StandardScaler()\n",
    "df_scaled = df.drop(['country', 'country-year','generation'], axis=1)\n",
    "df_scaled = df_scaled[['sex', 'age', 'annual_gdp_log','population_log', 'target_log']]\n",
    "\n",
    "\n",
    "df_scaled['scaled_pop'] = scaler.fit_transform(df_scaled['population_log'].values.reshape(-1,1))\n",
    "df_scaled['scaled_gdp'] = scaler.fit_transform(df_scaled['annual_gdp_log'].values.reshape(-1,1))\n",
    "df_scaled = df.drop(['annual_gdp_log', 'population_log'], axis=1)"
   ]
  },
  {
   "cell_type": "code",
   "execution_count": 28,
   "metadata": {},
   "outputs": [
    {
     "data": {
      "text/plain": [
       "RandomForestRegressor(bootstrap=True, ccp_alpha=0.0, criterion='mse',\n",
       "                      max_depth=None, max_features='auto', max_leaf_nodes=None,\n",
       "                      max_samples=None, min_impurity_decrease=0.0,\n",
       "                      min_impurity_split=None, min_samples_leaf=1,\n",
       "                      min_samples_split=2, min_weight_fraction_leaf=0.0,\n",
       "                      n_estimators=100, n_jobs=-1, oob_score=False,\n",
       "                      random_state=None, verbose=0, warm_start=False)"
      ]
     },
     "execution_count": 28,
     "metadata": {},
     "output_type": "execute_result"
    }
   ],
   "source": [
    "\n",
    "#Fitting Random Forest Regressor with default parameters\n",
    "\n",
    "ran_forest = RandomForestRegressor(n_estimators=100, criterion='mse', max_features='auto', n_jobs=-1)\n",
    "ran_forest.fit(X_train, y_train)\n"
   ]
  },
  {
   "cell_type": "code",
   "execution_count": 29,
   "metadata": {},
   "outputs": [
    {
     "name": "stdout",
     "output_type": "stream",
     "text": [
      "Train score: 0.99\n",
      "Test score: 0.91\n"
     ]
    }
   ],
   "source": [
    "actual = np.round(np.exp(y_test))\n",
    "predicted = np.round(np.exp(ran_forest.predict(X_test)))\n",
    "print(f'Train score: {ran_forest.score(X_train,y_train):.2f}')\n",
    "print(f'Test score: {ran_forest.score(X_test,y_test):.2f}')\n"
   ]
  },
  {
   "cell_type": "code",
   "execution_count": 30,
   "metadata": {},
   "outputs": [],
   "source": [
    "#report = classification_report(actual, predicted, output_dict=True)\n",
    "#report_df = pd.DataFrame(report).transpose()"
   ]
  },
  {
   "cell_type": "code",
   "execution_count": 31,
   "metadata": {},
   "outputs": [],
   "source": [
    "#precision=report_df['precision'].mean()\n",
    "#recall=report_df['recall'].mean()\n",
    "#f1_score =report_df['f1-score'].mean()"
   ]
  },
  {
   "cell_type": "code",
   "execution_count": 32,
   "metadata": {},
   "outputs": [],
   "source": [
    "#plot for feature importance\n",
    "def plot_feature_importance(model):\n",
    "    plt.barh(y=X_train.columns.values, width=model.feature_importances_, align = 'center')\n",
    "    plt.xlabel('Feature importances')\n",
    "    plt.ylabel('Features')"
   ]
  },
  {
   "cell_type": "code",
   "execution_count": 33,
   "metadata": {},
   "outputs": [
    {
     "data": {
      "image/png": "[encoded data removed]",
      "text/plain": [
       "<Figure size 1152x504 with 1 Axes>"
      ]
     },
     "metadata": {},
     "output_type": "display_data"
    }
   ],
   "source": [
    "plt.figure(figsize=(16,7))\n",
    "plot_feature_importance(ran_forest)"
   ]
  },
  {
   "cell_type": "code",
   "execution_count": 34,
   "metadata": {},
   "outputs": [
    {
     "data": {
      "text/plain": [
       "Text(0, 0.5, 'Residuals')"
      ]
     },
     "execution_count": 34,
     "metadata": {},
     "output_type": "execute_result"
    },
    {
     "data": {
      "image/png": "[encoded data removed]",
      "text/plain": [
       "<Figure size 864x648 with 1 Axes>"
      ]
     },
     "metadata": {},
     "output_type": "display_data"
    }
   ],
   "source": [
    "#Definining residuals\n",
    "residuals= actual-predicted\n",
    "\n",
    "#Plot didtribution of residuals \n",
    "f,axes=plt.subplots(figsize=(12,9))\n",
    "sns.residplot(x = predicted, y = actual, ax=axes)\n",
    "plt.ylabel('Residuals')"
   ]
  },
  {
   "cell_type": "markdown",
   "metadata": {},
   "source": [
    "### Cross-Validation Score"
   ]
  },
  {
   "cell_type": "code",
   "execution_count": 35,
   "metadata": {},
   "outputs": [
    {
     "name": "stdout",
     "output_type": "stream",
     "text": [
      "Scores: [0.83819718 0.76343841 0.77310383 0.84085899 0.71707942]\n",
      "\n",
      "Mean_Scores: 0.79\n"
     ]
    }
   ],
   "source": [
    "\n",
    "model = RandomForestRegressor(n_estimators=100, criterion='mse', max_features='auto', n_jobs=-1)\n",
    "scores = cross_val_score(model, x, y, cv=5)#cross validation score performing 5 fold cross-validation\n",
    "print(f\"Scores: {scores}\\n\\nMean_Scores: {scores.mean():.2f}\")"
   ]
  },
  {
   "cell_type": "markdown",
   "metadata": {},
   "source": [
    "## Conclusion\n",
    "- On the normalized dataset, the accuracy for Linear Regression, Ridge and Lasso models increased to 76% on average\n",
    "- The Random forest model was the best with 99% accurate on training dataset and 91% accurate on the test data\n",
    "- In the random forests model, there is relatively moderately high variance in the accuracy between folds ranging from 71% to 84%\n",
    "- Population was the most important feature in explaining the suicide numbers per country based on the output of the random forests model"
   ]
  },
  {
   "cell_type": "code",
   "execution_count": null,
   "metadata": {},
   "outputs": [],
   "source": []
  },
  {
   "cell_type": "code",
   "execution_count": null,
   "metadata": {},
   "outputs": [],
   "source": []
  },
  {
   "cell_type": "code",
   "execution_count": null,
   "metadata": {},
   "outputs": [],
   "source": []
  }
 ],
 "metadata": {
  "kernelspec": {
   "display_name": "Python 3",
   "language": "python",
   "name": "python3"
  },
  "language_info": {
   "codemirror_mode": {
    "name": "ipython",
    "version": 3
   },
   "file_extension": ".py",
   "mimetype": "text/x-python",
   "name": "python",
   "nbconvert_exporter": "python",
   "pygments_lexer": "ipython3",
   "version": "3.7.6"
  }
 },
 "nbformat": 4,
 "nbformat_minor": 4
}
